{
 "cells": [
  {
   "cell_type": "markdown",
   "metadata": {},
   "source": [
    "# Линейная регрессия\n",
    "## Одномерный случай\n",
    "\n",
    "Имеем линейную модель $a(x) = w * x + b$, тогда функция потерь с MSE будет следующей: $L = 1 / N * \\sum_{i=1}^{N} (y_i - wx_i - b)^2$\n",
    "\n",
    "Производная по w будет следующей: $\\frac{\\partial L}{\\partial w} = -2 / N * \\sum_1^N x_i(y_i - wx_i - b)$\n",
    "\n",
    "А производная по b: $\\frac{\\partial L}{\\partial b} = - 2 / N * \\sum_1^N (y_i - wx_i - b)$"
   ]
  },
  {
   "cell_type": "markdown",
   "metadata": {},
   "source": [
    "## Многомерный случай\n",
    "\n",
    "Путь $x_i$ - вектор, такой что $x_i = (x_{i, 1}, x_{i, 2}, ..., x_{i, M})$, тогда модель принимает вид $a(x) = (w, x) + b$, где $(w, x)$ - скалярное произведение векторов.\n",
    "\n",
    "Тогда $L = 1/N * \\sum_1^N (y_i - (w, x_i) - b)^2$\n",
    "\n",
    "Частные производные по параметрам:\n",
    "\n",
    "$\\frac{\\partial L}{\\partial b} = -2/N * \\sum_1^N (y_i - (w, x_i) - b)$\n",
    "\n",
    "$\\frac{\\partial L}{\\partial w_1} = -2/N * \\sum_1^N x_{i,1}(y_i - (w, x_i) - b)$\n",
    "\n",
    "$\\frac{\\partial L}{\\partial w_M} = -2/N * \\sum_1^N x_{i,M}(y_i - (w, x_i) - b)$"
   ]
  },
  {
   "cell_type": "markdown",
   "metadata": {},
   "source": [
    "## Укорение вычислений\n",
    "\n",
    "Предсохраним вычисления для $(y_i - (w, x_i) - b)$"
   ]
  },
  {
   "cell_type": "markdown",
   "metadata": {},
   "source": []
  }
 ],
 "metadata": {
  "kernelspec": {
   "display_name": "Python 3",
   "language": "python",
   "name": "python3"
  },
  "language_info": {
   "codemirror_mode": {
    "name": "ipython",
    "version": 3
   },
   "file_extension": ".py",
   "mimetype": "text/x-python",
   "name": "python",
   "nbconvert_exporter": "python",
   "pygments_lexer": "ipython3",
   "version": "3.10.4"
  }
 },
 "nbformat": 4,
 "nbformat_minor": 2
}
